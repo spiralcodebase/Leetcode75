{
 "cells": [
  {
   "cell_type": "code",
   "execution_count": 1,
   "metadata": {},
   "outputs": [],
   "source": [
    "# learning binary search \n"
   ]
  },
  {
   "cell_type": "markdown",
   "metadata": {},
   "source": [
    "In the Binary search we divide the problems of searching to half every time hence log(n) being the time complexity. The steps including in the Binary search is we go to the middle of the sorted array and then update where we will be searching according untill we get the answer. "
   ]
  },
  {
   "cell_type": "code",
   "execution_count": 2,
   "metadata": {},
   "outputs": [],
   "source": [
    "arr = [x for x in range(1,20)]"
   ]
  },
  {
   "cell_type": "code",
   "execution_count": 3,
   "metadata": {},
   "outputs": [],
   "source": [
    "low = 0 \n",
    "high = len(arr) - 1 \n",
    "# we will be searching from low to high "
   ]
  },
  {
   "cell_type": "code",
   "execution_count": 4,
   "metadata": {},
   "outputs": [],
   "source": [
    "mid = (low + high) //2 \n",
    "guess = arr[mid] \n"
   ]
  },
  {
   "cell_type": "code",
   "execution_count": 5,
   "metadata": {},
   "outputs": [],
   "source": [
    "# now according to the guess the searching range will be changed \n",
    "item = 6 \n",
    "if guess < item : \n",
    "    # we will have to search from the middle + 1 (we have already check the middle) to the last option \n",
    "    low = mid + 1 \n",
    "elif guess > item : \n",
    "    # the item is in the lower section so we will have to not go beyond the mid , so high need to be changed \n",
    "    high = mid - 1 # mid is already checked "
   ]
  },
  {
   "cell_type": "code",
   "execution_count": 6,
   "metadata": {},
   "outputs": [],
   "source": [
    "def binary_seach(arr, item): \n",
    "    low = 0 \n",
    "    high = len(arr) -1 \n",
    "\n",
    "    while low <=high : \n",
    "        mid = (low + high)//2 \n",
    "        guess = arr[mid]\n",
    "        if guess < item: \n",
    "            low = mid + 1 \n",
    "        elif guess > item: \n",
    "            high = mid -1 \n",
    "        else: \n",
    "            return mid # we have found the number \n",
    "    return -1 # if the number is not in the given arr we will have to return -1 "
   ]
  },
  {
   "cell_type": "code",
   "execution_count": 7,
   "metadata": {},
   "outputs": [
    {
     "data": {
      "text/plain": [
       "4"
      ]
     },
     "execution_count": 7,
     "metadata": {},
     "output_type": "execute_result"
    }
   ],
   "source": [
    "arr = [1,2,4,6,7,8]\n",
    "binary_seach(arr, 7)"
   ]
  },
  {
   "cell_type": "code",
   "execution_count": null,
   "metadata": {},
   "outputs": [],
   "source": []
  }
 ],
 "metadata": {
  "kernelspec": {
   "display_name": "nlp-coursera",
   "language": "python",
   "name": "python3"
  },
  "language_info": {
   "codemirror_mode": {
    "name": "ipython",
    "version": 3
   },
   "file_extension": ".py",
   "mimetype": "text/x-python",
   "name": "python",
   "nbconvert_exporter": "python",
   "pygments_lexer": "ipython3",
   "version": "3.11.8"
  }
 },
 "nbformat": 4,
 "nbformat_minor": 2
}
